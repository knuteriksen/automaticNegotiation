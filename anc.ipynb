{
  "nbformat": 4,
  "nbformat_minor": 0,
  "metadata": {
    "colab": {
      "name": "anc.ipynb",
      "provenance": [],
      "collapsed_sections": [],
      "authorship_tag": "ABX9TyMFGlP5CMj+9brMJAO3xugJ",
      "include_colab_link": true
    },
    "kernelspec": {
      "name": "python3",
      "display_name": "Python 3"
    },
    "language_info": {
      "name": "python"
    }
  },
  "cells": [
    {
      "cell_type": "markdown",
      "metadata": {
        "id": "view-in-github",
        "colab_type": "text"
      },
      "source": [
        "<a href=\"https://colab.research.google.com/github/knuteriksen/automaticNegotiation/blob/main/anc.ipynb\" target=\"_parent\"><img src=\"https://colab.research.google.com/assets/colab-badge.svg\" alt=\"Open In Colab\"/></a>"
      ]
    },
    {
      "cell_type": "markdown",
      "metadata": {
        "id": "QZZY0r14pFu8"
      },
      "source": [
        "Required installments and imports"
      ]
    },
    {
      "cell_type": "code",
      "metadata": {
        "id": "3x1IU816T_8c"
      },
      "source": [
        "!pip install researchpy\n",
        "!pip install statsmodels\n",
        "!pip install scikit-posthocs\n",
        "\n",
        "import json\n",
        "import pandas as pd\n",
        "from scipy import stats\n",
        "from scikit_posthocs import posthoc_dunn\n",
        "import matplotlib.pyplot as plt\n",
        "import numpy as np\n",
        "import statistics\n"
      ],
      "execution_count": null,
      "outputs": []
    },
    {
      "cell_type": "code",
      "metadata": {
        "id": "Uqfr5NxxVDP9"
      },
      "source": [
        "#Path to JSON file with all utilities for agents\n",
        "all_utils_path = 'all_utils.json'\n",
        "\n",
        "data = {}\n",
        "\n",
        "populations = []\n",
        "populations_means = []\n",
        "\n",
        "energy_means = []\n",
        "energy = []\n",
        "\n",
        "nice_means = []\n",
        "nice = []\n",
        "\n",
        "flight_means = []\n",
        "flight = []\n",
        "\n",
        "phone_means = []\n",
        "phone = []\n",
        "\n",
        "with open(all_utils_path) as json_file:\n",
        "    data = json.load(json_file)\n",
        "\n",
        "for key in data:\n",
        "    if 'boa' in key:\n",
        "        float_lst = [float(i) for i in data[key]]\n",
        "        \n",
        "        populations.append(float_lst)\n",
        "        populations_means.append(statistics.mean(float_lst))\n",
        "\n",
        "        energy_means.append(statistics.mean(float_lst[0:62]))\n",
        "        energy.append(float_lst[0:62])\n",
        "\n",
        "        nice_means.append(statistics.mean(float_lst[62:124]))\n",
        "        nice.append(float_lst[62:124])\n",
        "\n",
        "        flight_means.append(statistics.mean(float_lst[124:186]))\n",
        "        flight.append(float_lst[124:186])\n",
        "\n",
        "        phone_means.append(statistics.mean(float_lst[186:248]))\n",
        "        phone.append(float_lst[186:248])"
      ],
      "execution_count": 4,
      "outputs": []
    },
    {
      "cell_type": "code",
      "metadata": {
        "id": "06dPGI02WlnO",
        "colab": {
          "base_uri": "https://localhost:8080/"
        },
        "outputId": "ad7370ae-b507-4232-c518-dd7bc9c60cf4"
      },
      "source": [
        "print('All')\n",
        "print(stats.kruskal(*populations))\n",
        "posthoc_dunn(populations, p_adjust=\"bonferroni\").to_csv('all.csv')\n",
        "print('\\n')\n",
        "print('Energy')\n",
        "print(stats.kruskal(*energy))\n",
        "posthoc_dunn(energy, p_adjust=\"bonferroni\").to_csv('energy.csv')\n",
        "print('\\n')\n",
        "print('Nice')\n",
        "print(stats.kruskal(*nice))\n",
        "posthoc_dunn(nice, p_adjust=\"bonferroni\").to_csv('nice.csv')\n",
        "print('\\n')\n",
        "print('Flight')\n",
        "print(stats.kruskal(*flight))\n",
        "posthoc_dunn(flight, p_adjust=\"bonferroni\").to_csv('flight.csv')\n",
        "print('\\n')\n",
        "print('Phone')\n",
        "print(stats.kruskal(*phone))\n",
        "posthoc_dunn(phone, p_adjust=\"bonferroni\").to_csv('phone.csv')\n"
      ],
      "execution_count": 5,
      "outputs": [
        {
          "output_type": "stream",
          "text": [
            "All\n",
            "KruskalResult(statistic=64.09304964182192, pvalue=4.612654861503366e-05)\n",
            "\n",
            "\n",
            "Energy\n",
            "KruskalResult(statistic=308.3702537417974, pvalue=4.460232280619147e-50)\n",
            "\n",
            "\n",
            "Nice\n",
            "KruskalResult(statistic=3.46410752669638, pvalue=0.9999999591119868)\n",
            "\n",
            "\n",
            "Flight\n",
            "KruskalResult(statistic=43.5711535998891, pvalue=0.016801751133013944)\n",
            "\n",
            "\n",
            "Phone\n",
            "KruskalResult(statistic=100.55782508857537, pvalue=1.0364316764816586e-10)\n"
          ],
          "name": "stdout"
        }
      ]
    },
    {
      "cell_type": "code",
      "metadata": {
        "id": "9_lXeJ0OcCv3",
        "colab": {
          "base_uri": "https://localhost:8080/"
        },
        "outputId": "6d5e477f-9d7d-49e6-9269-79fe1db0df53"
      },
      "source": [
        "print(populations_means)"
      ],
      "execution_count": 7,
      "outputs": [
        {
          "output_type": "stream",
          "text": [
            "[0.5367889903527953, 0.5277194261791566, 0.514951949224037, 0.5168457645940936, 0.49999413857286207, 0.4574209093250361, 0.5251837696440552, 0.5232457664881431, 0.47597906309098975, 0.5421401642995072, 0.5488263264629352, 0.5361883398639566, 0.49008115479357794, 0.5058254995377728, 0.4921959201000548, 0.5027787838690126, 0.5131901712867236, 0.5035522276114924, 0.5257303033734798, 0.5208347428827261, 0.5024838842191494, 0.426930042210997, 0.4140184015672711, 0.40802755207566915, 0.4667359775175812, 0.4648418183653502, 0.4516315602027536]\n"
          ],
          "name": "stdout"
        }
      ]
    },
    {
      "cell_type": "code",
      "metadata": {
        "colab": {
          "base_uri": "https://localhost:8080/"
        },
        "id": "mVTHXwGLqEa6",
        "outputId": "13663118-c60e-4e5c-80f5-a85fbff264fc"
      },
      "source": [
        "print(energy_means)"
      ],
      "execution_count": 8,
      "outputs": [
        {
          "output_type": "stream",
          "text": [
            "[0.5022231657122563, 0.4707164143940455, 0.4485309151757179, 0.43833735945164337, 0.38595773708714726, 0.26639062654745627, 0.447240454920307, 0.45263360358698107, 0.2804350695682602, 0.5401332378431902, 0.5677515424108802, 0.5224952949396976, 0.4830262320775376, 0.508974041161844, 0.4603697019055957, 0.4853086838631474, 0.498392405577002, 0.45802611474704497, 0.4606900306982203, 0.45261316507929167, 0.46176349386584487, 0.26754543766119226, 0.26743113315080486, 0.2707257997005262, 0.29084175953269065, 0.2854022196979601, 0.2827627999507994]\n"
          ],
          "name": "stdout"
        }
      ]
    },
    {
      "cell_type": "code",
      "metadata": {
        "colab": {
          "base_uri": "https://localhost:8080/"
        },
        "id": "Y9JQ2PphqE0Y",
        "outputId": "1b57ecce-c342-4760-9f43-51d6e26f793a"
      },
      "source": [
        "print(nice_means)"
      ],
      "execution_count": 9,
      "outputs": [
        {
          "output_type": "stream",
          "text": [
            "[0.056129032258064517, 0.04, 0.04, 0.053548387096774196, 0.03741935483870968, 0.03741935483870968, 0.03741935483870968, 0.03741935483870968, 0.03741935483870968, 0.053548387096774196, 0.03741935483870968, 0.03741935483870968, 0.04, 0.053548387096774196, 0.03741935483870968, 0.03741935483870968, 0.04, 0.03741935483870968, 0.056129032258064517, 0.03741935483870968, 0.04, 0.056129032258064517, 0.053548387096774196, 0.056129032258064517, 0.056129032258064517, 0.03741935483870968, 0.053548387096774196]\n"
          ],
          "name": "stdout"
        }
      ]
    },
    {
      "cell_type": "code",
      "metadata": {
        "colab": {
          "base_uri": "https://localhost:8080/"
        },
        "id": "Br8_ciSMqFZk",
        "outputId": "d3c77916-413d-4157-bfe4-bbeb20e16dff"
      },
      "source": [
        "print(flight_means)"
      ],
      "execution_count": 10,
      "outputs": [
        {
          "output_type": "stream",
          "text": [
            "[0.7088037634408602, 0.7201612903225806, 0.7174059139784946, 0.7418682795698924, 0.7371639784946237, 0.7444220430107527, 0.755510752688172, 0.7442204301075268, 0.7487231182795698, 0.7497983870967742, 0.761021505376344, 0.7592741935483871, 0.6368951612903225, 0.6654569892473118, 0.687768817204301, 0.6951612903225807, 0.6963037634408602, 0.7146505376344086, 0.7315860215053763, 0.739516129032258, 0.705510752688172, 0.6261424731182795, 0.5918682795698924, 0.5898521505376344, 0.6993279569892473, 0.7342069892473118, 0.709005376344086]\n"
          ],
          "name": "stdout"
        }
      ]
    },
    {
      "cell_type": "code",
      "metadata": {
        "colab": {
          "base_uri": "https://localhost:8080/"
        },
        "id": "LophatzxqGMp",
        "outputId": "73360cca-3951-4af2-cd57-e90b1ccae505"
      },
      "source": [
        "print(phone_means)"
      ],
      "execution_count": 11,
      "outputs": [
        {
          "output_type": "stream",
          "text": [
            "[0.88, 0.88, 0.8538709677419355, 0.8336290322580645, 0.8394354838709678, 0.7814516129032258, 0.8605645161290323, 0.8587096774193548, 0.8373387096774193, 0.8250806451612903, 0.8291129032258064, 0.8255645161290323, 0.8004032258064516, 0.7953225806451613, 0.7832258064516129, 0.7932258064516129, 0.8180645161290323, 0.8041129032258064, 0.854516129032258, 0.8537903225806451, 0.8026612903225807, 0.7579032258064516, 0.743225806451613, 0.7154032258064517, 0.8206451612903226, 0.8023387096774194, 0.7612096774193549]\n"
          ],
          "name": "stdout"
        }
      ]
    }
  ]
}